{
 "cells": [
  {
   "cell_type": "markdown",
   "metadata": {},
   "source": [
    "1) Build a Shopping Cart<br>\n",
    "\n",
    "You can use either lists or dictionaries. The program should have the following capabilities:<br>\n",
    "\n",
    "1) Takes in input <br>\n",
    "2) Stores user input into a dictionary or list<br>\n",
    "3) The User can add or delete items<br>\n",
    "4) The User can see current shopping list<br>\n",
    "5) The program Loops until user 'quits'<br>\n",
    "6) Upon quiting the program, print out all items in the user's list "
   ]
  },
  {
   "cell_type": "code",
   "execution_count": 79,
   "metadata": {
    "scrolled": true
   },
   "outputs": [
    {
     "name": "stdout",
     "output_type": "stream",
     "text": [
      "What item do you need to buy? egg\n",
      "Shopping Cart: \n",
      "egg\n",
      " \n",
      "Anything else? (y/n) n\n",
      "Your shopping cart is: \n",
      "-egg\n"
     ]
    }
   ],
   "source": [
    "shoppinglist = []\n",
    "need_to_buy = True\n",
    "\n",
    "while need_to_buy == True:   \n",
    "    tobuy = input(\"What item do you need to buy? \")\n",
    "    shoppinglist.append(tobuy)\n",
    "    \n",
    "    print(\"Shopping Cart: \")\n",
    "    \n",
    "    for item in shoppinglist:\n",
    "        print(item)\n",
    "    print(\" \")\n",
    "    \n",
    "    answer = input(\"Anything else? (y/n) \")\n",
    "    if answer == \"n\":\n",
    "        need_to_buy = False\n",
    "\n",
    "# final list\n",
    "print(\"Your shopping cart is: \")\n",
    "for item in shoppinglist:\n",
    "    print(\"-\" + item)\n",
    "    \n"
   ]
  },
  {
   "cell_type": "markdown",
   "metadata": {},
   "source": [
    "2) Create a Module in VS Code and Import It into jupyter notebook\n",
    "\n",
    "Module should have the following capabilities:\n",
    "\n",
    "1) Has a function to calculate the square footage of a house<br>\n",
    "Reminder of Formula: Length X Width == Area<br>\n",
    "2) Has a function to calculate the circumference of a circle (2pi*r) <br>\n",
    "\n",
    "Program in Jupyter Notebook should take in user input and use imported functions to calculate a circle's circumference or a houses square footage "
   ]
  },
  {
   "cell_type": "code",
   "execution_count": null,
   "metadata": {},
   "outputs": [],
   "source": [
    "# done as seperate .py file"
   ]
  }
 ],
 "metadata": {
  "kernelspec": {
   "display_name": "Python 3",
   "language": "python",
   "name": "python3"
  },
  "language_info": {
   "codemirror_mode": {
    "name": "ipython",
    "version": 3
   },
   "file_extension": ".py",
   "mimetype": "text/x-python",
   "name": "python",
   "nbconvert_exporter": "python",
   "pygments_lexer": "ipython3",
   "version": "3.8.5"
  }
 },
 "nbformat": 4,
 "nbformat_minor": 4
}
